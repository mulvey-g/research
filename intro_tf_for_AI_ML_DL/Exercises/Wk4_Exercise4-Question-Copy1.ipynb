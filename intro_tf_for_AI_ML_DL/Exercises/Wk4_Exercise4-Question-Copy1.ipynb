{
 "cells": [
  {
   "cell_type": "markdown",
   "metadata": {
    "colab_type": "text",
    "id": "UncprnB0ymAE"
   },
   "source": [
    "Below is code with a link to a happy or sad dataset which contains 80 images, 40 happy and 40 sad. \n",
    "Create a convolutional neural network that trains to 100% accuracy on these images,  which cancels training upon hitting training accuracy of >.999\n",
    "\n",
    "Hint -- it will work best with 3 convolutional layers."
   ]
  },
  {
   "cell_type": "code",
   "execution_count": 14,
   "metadata": {},
   "outputs": [
    {
     "name": "stdout",
     "output_type": "stream",
     "text": [
      "The files have already been extracted\n",
      "total training happy images:  40\n",
      "total training sad images:  40\n",
      "['happy1-00.png', 'happy1-01.png', 'happy1-02.png', 'happy1-03.png', 'happy1-04.png', 'happy1-05.png', 'happy1-06.png', 'happy1-07.png', 'happy1-08.png', 'happy1-09.png']\n",
      "['sad1-00.png', 'sad1-01.png', 'sad1-02.png', 'sad1-03.png', 'sad1-04.png', 'sad1-05.png', 'sad1-06.png', 'sad1-07.png', 'sad1-08.png', 'sad1-09.png']\n"
     ]
    }
   ],
   "source": [
    "import tensorflow as tf\n",
    "import os\n",
    "import zipfile\n",
    "from os import path, getcwd, chdir\n",
    "import shutil\n",
    "os.getcwd()\n",
    "\n",
    "# DO NOT CHANGE THE LINE BELOW. If you are developing in a local\n",
    "# environment, then grab happy-or-sad.zip from the Coursera Jupyter Notebook\n",
    "# and place it inside a local folder and edit the path to that location\n",
    "if not os.path.exists('tmp'):\n",
    "    os.mkdir('tmp')\n",
    "source = 'D:/happy-or-sad.zip'\n",
    "destination = 'D:/tmp/happy-or-sad.zip'\n",
    "if os.path.isfile(source):\n",
    "    dest = shutil.move(source, destination)\n",
    "    path = 'D:/tmp/happy-or-sad.zip'\n",
    "    os.getcwd()\n",
    "    zip_ref = zipfile.ZipFile(path, 'r')\n",
    "    zip_ref.extractall(\"D:/tmp/h-or-s\")\n",
    "    zip_ref.close()\n",
    "else:\n",
    "    print('The files have already been extracted')\n",
    "train_happy_dir = os.path.join('D:/tmp/h-or-s/happy')\n",
    "print('total training happy images: ', len(os.listdir(train_happy_dir)))\n",
    "train_sad_dir = os.path.join('D:/tmp/h-or-s/sad')\n",
    "print('total training sad images: ', len(os.listdir(train_sad_dir)))\n",
    "\n",
    "train_happy_names = os.listdir(train_happy_dir)\n",
    "print(train_happy_names[:10])\n",
    "train_sad_names = os.listdir(train_sad_dir)\n",
    "print(train_sad_names[:10])"
   ]
  },
  {
   "cell_type": "code",
   "execution_count": 1,
   "metadata": {},
   "outputs": [],
   "source": [
    "# ### Not needed just showing images\n",
    "# %matplotlib inline\n",
    "# import matplotlib.pyplot as plt\n",
    "# import matplotlib.image as mpimg\n",
    "\n",
    "# nrows = 4\n",
    "# ncols = 4\n",
    "\n",
    "# pic_index = 0\n",
    "\n",
    "# fig = plt.gcf()\n",
    "# fig.set_size_inches(ncols * 4, nrows * 4)\n",
    "\n",
    "# pic_index += 8\n",
    "\n",
    "# next_happy_pix = [os.path.join(train_happy_dir, fname) \n",
    "#                 for fname in train_happy_names[pic_index-8:pic_index]]\n",
    "# next_sad_pix = [os.path.join(train_sad_dir, fname) \n",
    "#                 for fname in train_sad_names[pic_index-8:pic_index]]\n",
    "\n",
    "# for i, img_path in enumerate(next_happy_pix+next_sad_pix):\n",
    "#   # Set up subplot; subplot indices start at 1\n",
    "#   sp = plt.subplot(nrows, ncols, i + 1)\n",
    "#   sp.axis('Off') # Don't show axes (or gridlines)\n",
    "\n",
    "#   img = mpimg.imread(img_path)\n",
    "#   plt.imshow(img)\n",
    "\n",
    "# plt.show()"
   ]
  },
  {
   "cell_type": "code",
   "execution_count": null,
   "metadata": {},
   "outputs": [],
   "source": []
  },
  {
   "cell_type": "code",
   "execution_count": 33,
   "metadata": {},
   "outputs": [],
   "source": [
    "# GRADED FUNCTION: train_happy_sad_model\n",
    "def train_happy_sad_model():\n",
    "    # Please write your code only where you are indicated.\n",
    "    # please do not remove # model fitting inline comments.\n",
    "\n",
    "    DESIRED_ACCURACY = 0.999\n",
    "\n",
    "    class myCallback(tf.keras.callbacks.Callback):# your code):\n",
    "        def on_epoch_end(self, epoch, logs={}):\n",
    "            if (logs.get('acc') > DESIRED_ACCURACY):\n",
    "                print('\\nReached 99% accuracy - stopping training')\n",
    "                self.model.stop_training=True\n",
    "         # Your Code\n",
    "\n",
    "    callbacks = myCallback()\n",
    "    \n",
    "    # This Code Block should Define and Compile the Model. Please assume the images are 150 X 150 in your implementation.\n",
    "    model = tf.keras.models.Sequential([\n",
    "        # Your Code Here\n",
    "        # layer 1\n",
    "        tf.keras.layers.Conv2D(32, (3,3), activation='relu', input_shape=(150, 150, 3)),\n",
    "        tf.keras.layers.MaxPooling2D(2, 2),\n",
    "        # layer 2\n",
    "        tf.keras.layers.Conv2D(32, (3,3), activation='relu'),\n",
    "        tf.keras.layers.MaxPooling2D(2,2),\n",
    "        # layer 3\n",
    "        tf.keras.layers.Conv2D(32, (3,3), activation='relu'),\n",
    "        tf.keras.layers.MaxPooling2D(2,2),\n",
    "        # Flatten the results to feed into the NN\n",
    "        tf.keras.layers.Flatten(),\n",
    "        # 512 neuron hidden layer\n",
    "        tf.keras.layers.Dense(512, activation='relu'),\n",
    "        # Only 1 output neuron. It will contain a value from 0-1 where 0 for 1 class ('happy') and 1 for the other ('sad')\n",
    "        tf.keras.layers.Dense(1, activation='sigmoid')\n",
    "    ])\n",
    "    model.summary()\n",
    "\n",
    "    from tensorflow.keras.optimizers import RMSprop\n",
    "#     model.compile(\n",
    "    model.compile( # Your Code Here #)\n",
    "        loss='binary_crossentropy',\n",
    "        optimizer=RMSprop(lr=0.001),\n",
    "        metrics=['acc'])# END of your Code Here #)\n",
    "        \n",
    "\n",
    "    # This code block should create an instance of an ImageDataGenerator called train_datagen \n",
    "    # And a train_generator by calling train_datagen.flow_from_directory\n",
    "\n",
    "    from tensorflow.keras.preprocessing.image import ImageDataGenerator\n",
    "\n",
    "    train_datagen = ImageDataGenerator(rescale=1/255) # Your Code Here\n",
    "    # Please use a target_size of 150 X 150.\n",
    "    train_generator = train_datagen.flow_from_directory(\n",
    "        'D:/tmp/h-or-s',\n",
    "        target_size=(150, 150),\n",
    "        batch_size=10,\n",
    "        class_mode='binary')\n",
    "        # Your Code Here)\n",
    "    # Expected output: 'Found 80 images belonging to 2 classes'\n",
    "\n",
    "    # This code block should call model.fit_generator and train for\n",
    "    # a number of epochs.\n",
    "    # model fitting\n",
    "    history = model.fit_generator(train_generator, steps_per_epoch=8, epochs=15, callbacks=[callbacks], verbose=1)\n",
    "          # Your Code Here)\n",
    "    # model fitting\n",
    "    return history.history['acc'][-1]"
   ]
  },
  {
   "cell_type": "code",
   "execution_count": null,
   "metadata": {},
   "outputs": [],
   "source": []
  },
  {
   "cell_type": "code",
   "execution_count": 34,
   "metadata": {},
   "outputs": [
    {
     "name": "stdout",
     "output_type": "stream",
     "text": [
      "Model: \"sequential_4\"\n",
      "_________________________________________________________________\n",
      "Layer (type)                 Output Shape              Param #   \n",
      "=================================================================\n",
      "conv2d_8 (Conv2D)            (None, 148, 148, 32)      896       \n",
      "_________________________________________________________________\n",
      "max_pooling2d_8 (MaxPooling2 (None, 74, 74, 32)        0         \n",
      "_________________________________________________________________\n",
      "conv2d_9 (Conv2D)            (None, 72, 72, 32)        9248      \n",
      "_________________________________________________________________\n",
      "max_pooling2d_9 (MaxPooling2 (None, 36, 36, 32)        0         \n",
      "_________________________________________________________________\n",
      "conv2d_10 (Conv2D)           (None, 34, 34, 32)        9248      \n",
      "_________________________________________________________________\n",
      "max_pooling2d_10 (MaxPooling (None, 17, 17, 32)        0         \n",
      "_________________________________________________________________\n",
      "flatten_4 (Flatten)          (None, 9248)              0         \n",
      "_________________________________________________________________\n",
      "dense_8 (Dense)              (None, 512)               4735488   \n",
      "_________________________________________________________________\n",
      "dense_9 (Dense)              (None, 1)                 513       \n",
      "=================================================================\n",
      "Total params: 4,755,393\n",
      "Trainable params: 4,755,393\n",
      "Non-trainable params: 0\n",
      "_________________________________________________________________\n",
      "Found 80 images belonging to 2 classes.\n",
      "WARNING:tensorflow:sample_weight modes were coerced from\n",
      "  ...\n",
      "    to  \n",
      "  ['...']\n",
      "Train for 8 steps\n",
      "Epoch 1/15\n",
      "8/8 [==============================] - 2s 234ms/step - loss: 1.7739 - acc: 0.5875\n",
      "Epoch 2/15\n",
      "8/8 [==============================] - 0s 39ms/step - loss: 0.5983 - acc: 0.7500\n",
      "Epoch 3/15\n",
      "8/8 [==============================] - 0s 41ms/step - loss: 0.2470 - acc: 0.9250\n",
      "Epoch 4/15\n",
      "8/8 [==============================] - 0s 40ms/step - loss: 0.4523 - acc: 0.7875\n",
      "Epoch 5/15\n",
      "8/8 [==============================] - 0s 60ms/step - loss: 0.1002 - acc: 0.9750: 0s - loss: 0.1376 - acc: 0.9\n",
      "Epoch 6/15\n",
      "8/8 [==============================] - 1s 63ms/step - loss: 0.1837 - acc: 0.9375\n",
      "Epoch 7/15\n",
      "8/8 [==============================] - 1s 68ms/step - loss: 0.0759 - acc: 0.9500\n",
      "Epoch 8/15\n",
      "7/8 [=========================>....] - ETA: 0s - loss: 0.0255 - acc: 1.0000\n",
      "Reached 99% accuracy - stopping training\n",
      "8/8 [==============================] - 0s 51ms/step - loss: 0.0241 - acc: 1.0000\n"
     ]
    },
    {
     "data": {
      "text/plain": [
       "1.0"
      ]
     },
     "execution_count": 34,
     "metadata": {},
     "output_type": "execute_result"
    }
   ],
   "source": [
    "# The Expected output: \"Reached 99.9% accuracy so cancelling training!\"\"\n",
    "train_happy_sad_model()"
   ]
  },
  {
   "cell_type": "code",
   "execution_count": null,
   "metadata": {},
   "outputs": [],
   "source": [
    "# Now click the 'Submit Assignment' button above.\n",
    "# Once that is complete, please run the following two cells to save your work and close the notebook"
   ]
  },
  {
   "cell_type": "code",
   "execution_count": null,
   "metadata": {},
   "outputs": [],
   "source": [
    "import os, signal\n",
    "os.kill(os.getpid(),  # replaced .SIGKILL with .SIGTERM to kill the kernal processing\n",
    "        signal.SIGTERM)"
   ]
  },
  {
   "cell_type": "code",
   "execution_count": null,
   "metadata": {},
   "outputs": [],
   "source": [
    "%%javascript\n",
    "<!-- Save the notebook -->\n",
    "IPython.notebook.save_checkpoint();"
   ]
  },
  {
   "cell_type": "code",
   "execution_count": null,
   "metadata": {},
   "outputs": [],
   "source": [
    "%%javascript\n",
    "<!-- Shutdown and close the notebook -->\n",
    "window.onbeforeunload = null\n",
    "window.close();\n",
    "IPython.notebook.session.delete();"
   ]
  }
 ],
 "metadata": {
  "coursera": {
   "course_slug": "introduction-tensorflow",
   "graded_item_id": "1kAlw",
   "launcher_item_id": "PNLYD"
  },
  "kernelspec": {
   "display_name": "Python 3",
   "language": "python",
   "name": "python3"
  },
  "language_info": {
   "codemirror_mode": {
    "name": "ipython",
    "version": 3
   },
   "file_extension": ".py",
   "mimetype": "text/x-python",
   "name": "python",
   "nbconvert_exporter": "python",
   "pygments_lexer": "ipython3",
   "version": "3.6.10"
  }
 },
 "nbformat": 4,
 "nbformat_minor": 1
}
