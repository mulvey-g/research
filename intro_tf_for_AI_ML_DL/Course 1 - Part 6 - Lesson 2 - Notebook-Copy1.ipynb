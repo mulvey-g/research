{
 "cells": [
  {
   "cell_type": "markdown",
   "metadata": {
    "colab_type": "text",
    "id": "R6gHiH-I7uFa"
   },
   "source": [
    "# Improving Computer Vision Accuracy using Convolutions\n",
    "\n",
    "In the previous lessons you saw how to do fashion recognition using a Deep Neural Network (DNN) containing three layers -- the input layer (in the shape of the data), the output layer (in the shape of the desired output) and a hidden layer. You experimented with the impact of different sized of hidden layer, number of training epochs etc on the final accuracy.\n",
    "\n",
    "For convenience, here's the entire code again. Run it and take a note of the test accuracy that is printed out at the end. "
   ]
  },
  {
   "cell_type": "markdown",
   "metadata": {
    "colab_type": "text",
    "id": "zldEXSsF8Noz"
   },
   "source": [
    "Your accuracy is probably about 89% on training and 87% on validation...not bad...But how do you make that even better? One way is to use something called Convolutions. I'm not going to details on Convolutions here, but the ultimate concept is that they narrow down the content of the image to focus on specific, distinct, details. \n",
    "\n",
    "If you've ever done image processing using a filter (like this: https://en.wikipedia.org/wiki/Kernel_(image_processing)) then convolutions will look very familiar.\n",
    "\n",
    "In short, you take an array (usually 3x3 or 5x5) and pass it over the image. By changing the underlying pixels based on the formula within that matrix, you can do things like edge detection. So, for example, if you look at the above link, you'll see a 3x3 that is defined for edge detection where the middle cell is 8, and all of its neighbors are -1. In this case, for each pixel, you would multiply its value by 8, then subtract the value of each neighbor. Do this for every pixel, and you'll end up with a new image that has the edges enhanced.\n",
    "\n",
    "This is perfect for computer vision, because often it's features that can get highlighted like this that distinguish one item for another, and the amount of information needed is then much less...because you'll just train on the highlighted features.\n",
    "\n",
    "That's the concept of Convolutional Neural Networks. Add some layers to do convolution before you have the dense layers, and then the information going to the dense layers is more focussed, and possibly more accurate.\n",
    "\n",
    "Run the below code -- this is the same neural network as earlier, but this time with Convolutional layers added first. It will take longer, but look at the impact on the accuracy:"
   ]
  },
  {
   "cell_type": "code",
   "execution_count": 1,
   "metadata": {
    "colab": {
     "height": 605
    },
    "colab_type": "code",
    "executionInfo": {
     "elapsed": 29440,
     "status": "ok",
     "timestamp": 1550247270616,
     "user": {
      "displayName": "Laurence Moroney",
      "photoUrl": "https://lh3.googleusercontent.com/-RcxktLY-TBk/AAAAAAAAAAI/AAAAAAAAABY/b4V4dTIqmPI/s64/photo.jpg",
      "userId": "06401446828348966425"
     },
     "user_tz": 480
    },
    "id": "C0tFgT1MMKi6",
    "outputId": "b9c48f3c-639a-4c14-ebbe-657cacca81f8"
   },
   "outputs": [
    {
     "name": "stdout",
     "output_type": "stream",
     "text": [
      "2.1.0\n",
      "Model: \"sequential\"\n",
      "_________________________________________________________________\n",
      "Layer (type)                 Output Shape              Param #   \n",
      "=================================================================\n",
      "conv2d (Conv2D)              (None, 26, 26, 64)        640       \n",
      "_________________________________________________________________\n",
      "max_pooling2d (MaxPooling2D) (None, 13, 13, 64)        0         \n",
      "_________________________________________________________________\n",
      "conv2d_1 (Conv2D)            (None, 11, 11, 64)        36928     \n",
      "_________________________________________________________________\n",
      "max_pooling2d_1 (MaxPooling2 (None, 5, 5, 64)          0         \n",
      "_________________________________________________________________\n",
      "flatten (Flatten)            (None, 1600)              0         \n",
      "_________________________________________________________________\n",
      "dense (Dense)                (None, 128)               204928    \n",
      "_________________________________________________________________\n",
      "dense_1 (Dense)              (None, 10)                1290      \n",
      "=================================================================\n",
      "Total params: 243,786\n",
      "Trainable params: 243,786\n",
      "Non-trainable params: 0\n",
      "_________________________________________________________________\n",
      "Train on 60000 samples\n",
      "Epoch 1/5\n",
      "60000/60000 [==============================] - 15s 251us/sample - loss: 0.4517 - accuracy: 0.8362\n",
      "Epoch 2/5\n",
      "60000/60000 [==============================] - 12s 207us/sample - loss: 0.2993 - accuracy: 0.8902\n",
      "Epoch 3/5\n",
      "60000/60000 [==============================] - 11s 186us/sample - loss: 0.2515 - accuracy: 0.9083\n",
      "Epoch 4/5\n",
      "60000/60000 [==============================] - 17s 285us/sample - loss: 0.2206 - accuracy: 0.9182\n",
      "Epoch 5/5\n",
      "60000/60000 [==============================] - 14s 234us/sample - loss: 0.1936 - accuracy: 0.9270\n",
      "10000/10000 [==============================] - 2s 231us/sample - loss: 0.2837 - accuracy: 0.8985\n"
     ]
    }
   ],
   "source": [
    "import tensorflow as tf\n",
    "print(tf.__version__)\n",
    "mnist = tf.keras.datasets.fashion_mnist\n",
    "(training_images, training_labels), (test_images, test_labels) = mnist.load_data()\n",
    "training_images=training_images.reshape(60000, 28, 28, 1)\n",
    "training_images=training_images / 255.0\n",
    "test_images = test_images.reshape(10000, 28, 28, 1)\n",
    "test_images=test_images/255.0\n",
    "model = tf.keras.models.Sequential([\n",
    "  tf.keras.layers.Conv2D(64, (3,3), activation='relu', input_shape=(28, 28, 1)),\n",
    "  tf.keras.layers.MaxPooling2D(2, 2),\n",
    "  tf.keras.layers.Conv2D(64, (3,3), activation='relu'),\n",
    "  tf.keras.layers.MaxPooling2D(2,2),\n",
    "  tf.keras.layers.Flatten(),\n",
    "  tf.keras.layers.Dense(128, activation='relu'),\n",
    "  tf.keras.layers.Dense(10, activation='softmax')\n",
    "])\n",
    "model.compile(optimizer='adam', loss='sparse_categorical_crossentropy', metrics=['accuracy'])\n",
    "model.summary()\n",
    "model.fit(training_images, training_labels, epochs=5)\n",
    "test_loss = model.evaluate(test_images, test_labels)\n"
   ]
  },
  {
   "cell_type": "markdown",
   "metadata": {
    "colab_type": "text",
    "id": "uRLfZ0jt-fQI"
   },
   "source": [
    "It's likely gone up to about 93% on the training data and 91% on the validation data. \n",
    "\n",
    "That's significant, and a step in the right direction!\n",
    "\n",
    "Try running it for more epochs -- say about 20, and explore the results! But while the results might seem really good, the validation results may actually go down, due to something called 'overfitting' which will be discussed later. \n",
    "\n",
    "(In a nutshell, 'overfitting' occurs when the network learns the data from the training set really well, but it's too specialised to only that data, and as a result is less effective at seeing *other* data. For example, if all your life you only saw red shoes, then when you see a red shoe you would be very good at identifying it, but blue suade shoes might confuse you...and you know you should never mess with my blue suede shoes.)\n",
    "\n",
    "Then, look at the code again, and see, step by step how the Convolutions were built:"
   ]
  },
  {
   "cell_type": "markdown",
   "metadata": {
    "colab_type": "text",
    "id": "RaLX5cgI_JDb"
   },
   "source": [
    "Step 1 is to gather the data. You'll notice that there's a bit of a change here in that the training data needed to be reshaped. That's because the first convolution expects a single tensor containing everything, so instead of 60,000 28x28x1 items in a list, we have a single 4D list that is 60,000x28x28x1, and the same for the test images. If you don't do this, you'll get an error when training as the Convolutions do not recognize the shape. \n",
    "\n",
    "\n",
    "\n",
    "```\n",
    "import tensorflow as tf\n",
    "mnist = tf.keras.datasets.fashion_mnist\n",
    "(training_images, training_labels), (test_images, test_labels) = mnist.load_data()\n",
    "training_images=training_images.reshape(60000, 28, 28, 1)\n",
    "training_images=training_images / 255.0\n",
    "test_images = test_images.reshape(10000, 28, 28, 1)\n",
    "test_images=test_images/255.0\n",
    "```\n",
    "\n"
   ]
  },
  {
   "cell_type": "markdown",
   "metadata": {
    "colab_type": "text",
    "id": "SS_W_INc_kJQ"
   },
   "source": [
    "Next is to define your model. Now instead of the input layer at the top, you're going to add a Convolution. The parameters are:\n",
    "\n",
    "1. The number of convolutions you want to generate. Purely arbitrary, but good to start with something in the order of 32\n",
    "2. The size of the Convolution, in this case a 3x3 grid\n",
    "3. The activation function to use -- in this case we'll use relu, which you might recall is the equivalent of returning x when x>0, else returning 0\n",
    "4. In the first layer, the shape of the input data.\n",
    "\n",
    "You'll follow the Convolution with a MaxPooling layer which is then designed to compress the image, while maintaining the content of the features that were highlighted by the convlution. By specifying (2,2) for the MaxPooling, the effect is to quarter the size of the image. Without going into too much detail here, the idea is that it creates a 2x2 array of pixels, and picks the biggest one, thus turning 4 pixels into 1. It repeats this across the image, and in so doing halves the number of horizontal, and halves the number of vertical pixels, effectively reducing the image by 25%.\n",
    "\n",
    "You can call model.summary() to see the size and shape of the network, and you'll notice that after every MaxPooling layer, the image size is reduced in this way. \n",
    "\n",
    "\n",
    "```\n",
    "model = tf.keras.models.Sequential([\n",
    "  tf.keras.layers.Conv2D(32, (3,3), activation='relu', input_shape=(28, 28, 1)),\n",
    "  tf.keras.layers.MaxPooling2D(2, 2),\n",
    "```\n",
    "\n"
   ]
  },
  {
   "cell_type": "markdown",
   "metadata": {
    "colab_type": "text",
    "id": "RMorM6daADjA"
   },
   "source": [
    "Add another convolution\n",
    "\n",
    "\n",
    "\n",
    "```\n",
    "  tf.keras.layers.Conv2D(64, (3,3), activation='relu'),\n",
    "  tf.keras.layers.MaxPooling2D(2,2)\n",
    "```\n",
    "\n"
   ]
  },
  {
   "cell_type": "code",
   "execution_count": null,
   "metadata": {
    "colab": {
     "height": 207
    },
    "colab_type": "code",
    "executionInfo": {
     "elapsed": 19572,
     "status": "ok",
     "timestamp": 1550247198665,
     "user": {
      "displayName": "Laurence Moroney",
      "photoUrl": "https://lh3.googleusercontent.com/-RcxktLY-TBk/AAAAAAAAAAI/AAAAAAAAABY/b4V4dTIqmPI/s64/photo.jpg",
      "userId": "06401446828348966425"
     },
     "user_tz": 480
    },
    "id": "xcsRtq9OLorS",
    "outputId": "027ddd16-b2d9-41a0-85aa-9da6275085e9"
   },
   "outputs": [],
   "source": [
    "import tensorflow as tf\n",
    "mnist = tf.keras.datasets.fashion_mnist\n",
    "(training_images, training_labels), (test_images, test_labels) = mnist.load_data()\n",
    "training_images=training_images / 255.0\n",
    "test_images=test_images / 255.0\n",
    "\n",
    "model = tf.keras.models.Sequential([\n",
    "  tf.keras.layers.Flatten(),\n",
    "  tf.keras.layers.Dense(128, activation=tf.nn.relu),\n",
    "  tf.keras.layers.Dense(10, activation=tf.nn.softmax)\n",
    "])\n",
    "model.compile(optimizer='adam', loss='sparse_categorical_crossentropy', metrics=['accuracy'])\n",
    "model.fit(training_images, training_labels, epochs=5)\n",
    "\n",
    "test_loss = model.evaluate(test_images, test_labels)"
   ]
  },
  {
   "cell_type": "markdown",
   "metadata": {
    "colab_type": "text",
    "id": "b1-x-kZF4_tC"
   },
   "source": [
    "Now flatten the output. After this you'll just have the same DNN structure as the non convolutional version\n",
    "\n",
    "```\n",
    "  tf.keras.layers.Flatten(),\n",
    "```\n",
    "\n"
   ]
  },
  {
   "cell_type": "markdown",
   "metadata": {
    "colab_type": "text",
    "id": "qPtqR23uASjX"
   },
   "source": [
    "The same 128 dense layers, and 10 output layers as in the pre-convolution example:\n",
    "\n",
    "\n",
    "\n",
    "```\n",
    "  tf.keras.layers.Dense(128, activation='relu'),\n",
    "  tf.keras.layers.Dense(10, activation='softmax')\n",
    "])\n",
    "```\n",
    "\n"
   ]
  },
  {
   "cell_type": "markdown",
   "metadata": {
    "colab_type": "text",
    "id": "C0GSsjUhAaSj"
   },
   "source": [
    "Now compile the model, call the fit method to do the training, and evaluate the loss and accuracy from the test set.\n",
    "\n",
    "\n",
    "\n",
    "```\n",
    "model.compile(optimizer='adam', loss='sparse_categorical_crossentropy', metrics=['accuracy'])\n",
    "model.fit(training_images, training_labels, epochs=5)\n",
    "test_loss, test_acc = model.evaluate(test_images, test_labels)\n",
    "print(test_acc)\n",
    "```\n",
    "\n",
    "\n"
   ]
  },
  {
   "cell_type": "markdown",
   "metadata": {
    "colab_type": "text",
    "id": "IXx_LX3SAlFs"
   },
   "source": [
    "# Visualizing the Convolutions and Pooling\n",
    "\n",
    "This code will show us the convolutions graphically. The print (test_labels[;100]) shows us the first 100 labels in the test set, and you can see that the ones at index 0, index 23 and index 28 are all the same value (9). They're all shoes. Let's take a look at the result of running the convolution on each, and you'll begin to see common features between them emerge. Now, when the DNN is training on that data, it's working with a lot less, and it's perhaps finding a commonality between shoes based on this convolution/pooling combination."
   ]
  },
  {
   "cell_type": "code",
   "execution_count": null,
   "metadata": {
    "colab": {
     "base_uri": "https://localhost:8080/",
     "height": 68
    },
    "colab_type": "code",
    "executionInfo": {
     "elapsed": 400,
     "status": "ok",
     "timestamp": 1549465887353,
     "user": {
      "displayName": "Laurence Moroney",
      "photoUrl": "https://lh4.googleusercontent.com/-wUzpekukCVw/AAAAAAAAAAI/AAAAAAAAAHw/pQPstOOJqqE/s64/photo.jpg",
      "userId": "17858265307580721507"
     },
     "user_tz": 480
    },
    "id": "f-6nX4QsOku6",
    "outputId": "6b85ed93-6868-4c2c-b066-0808d6536878"
   },
   "outputs": [],
   "source": [
    "print(test_labels[:100])"
   ]
  },
  {
   "cell_type": "code",
   "execution_count": null,
   "metadata": {
    "colab": {
     "base_uri": "https://localhost:8080/",
     "height": 349
    },
    "colab_type": "code",
    "executionInfo": {
     "elapsed": 1429,
     "status": "ok",
     "timestamp": 1549466091111,
     "user": {
      "displayName": "Laurence Moroney",
      "photoUrl": "https://lh4.googleusercontent.com/-wUzpekukCVw/AAAAAAAAAAI/AAAAAAAAAHw/pQPstOOJqqE/s64/photo.jpg",
      "userId": "17858265307580721507"
     },
     "user_tz": 480
    },
    "id": "9FGsHhv6JvDx",
    "outputId": "e144d639-cebc-4d0a-9c7a-8571f70d6159"
   },
   "outputs": [],
   "source": [
    "import matplotlib.pyplot as plt\n",
    "f, axarr = plt.subplots(3,4)\n",
    "FIRST_IMAGE=0\n",
    "SECOND_IMAGE=7\n",
    "THIRD_IMAGE=26\n",
    "CONVOLUTION_NUMBER = 1\n",
    "from tensorflow.keras import models\n",
    "layer_outputs = [layer.output for layer in model.layers]\n",
    "activation_model = tf.keras.models.Model(inputs = model.input, outputs = layer_outputs)\n",
    "for x in range(0,4):\n",
    "  f1 = activation_model.predict(test_images[FIRST_IMAGE].reshape(1, 28, 28, 1))[x]\n",
    "  axarr[0,x].imshow(f1[0, : , :, CONVOLUTION_NUMBER], cmap='inferno')\n",
    "  axarr[0,x].grid(False)\n",
    "  f2 = activation_model.predict(test_images[SECOND_IMAGE].reshape(1, 28, 28, 1))[x]\n",
    "  axarr[1,x].imshow(f2[0, : , :, CONVOLUTION_NUMBER], cmap='inferno')\n",
    "  axarr[1,x].grid(False)\n",
    "  f3 = activation_model.predict(test_images[THIRD_IMAGE].reshape(1, 28, 28, 1))[x]\n",
    "  axarr[2,x].imshow(f3[0, : , :, CONVOLUTION_NUMBER], cmap='inferno')\n",
    "  axarr[2,x].grid(False)"
   ]
  },
  {
   "cell_type": "markdown",
   "metadata": {
    "colab_type": "text",
    "id": "8KVPZqgHo5Ux"
   },
   "source": [
    "# EXERCISES\n",
    "\n",
    "1. Try editing the convolutions. Change the 32s to either 16 or 64. What impact will this have on accuracy and/or training time.\n",
    "\n",
    "2. Remove the final Convolution. What impact will this have on accuracy or training time?\n",
    "\n",
    "3. How about adding more Convolutions? What impact do you think this will have? Experiment with it.\n",
    "\n",
    "4. Remove all Convolutions but the first. What impact do you think this will have? Experiment with it. \n",
    "\n",
    "5. In the previous lesson you implemented a callback to check on the loss function and to cancel training once it hit a certain amount. See if you can implement that here!"
   ]
  },
  {
   "cell_type": "markdown",
   "metadata": {},
   "source": [
    "# EXERCISE 1\n",
    "\n",
    "1. Try editing the convolutions. Change the 32s to either 16 or 64. What impact will this have on accuracy and/or training time."
   ]
  },
  {
   "cell_type": "code",
   "execution_count": null,
   "metadata": {},
   "outputs": [],
   "source": [
    "import tensorflow as tf\n",
    "mnist = tf.keras.datasets.fashion_mnist\n",
    "(training_images, training_labels), (test_images, test_labels) = mnist.load_data()\n",
    "training_images=training_images.reshape(60000, 28, 28, 1)\n",
    "training_images = training_images / 255.0\n",
    "test_images = test_images.reshape(10000, 28, 28, 1)\n",
    "test_images = test_images /255.0\n",
    "\n",
    "# CREATE THE MODEL\n",
    "model = tf.keras.models.Sequential([\n",
    "    # FIRST CONVOLUTIONAL LAYER\n",
    "    # number of convolutions = 32 (arbitary) the size of the convolution is 3x3\n",
    "    tf.keras.layers.Conv2D(16, (3,3), activation='relu', input_shape=(28,28,1)),\n",
    "#     tf.keras.layers.Conv2D(32, (3,3), activation='relu', input_shape=(28,28,1)),\n",
    "#     tf.keras.layers.Conv2D(64, (3,3), activation='relu', input_shape=(28,28,1)),\n",
    "    # maxPooling is 2x2 array of pixels and picks the biggest one aka turns 4 pixels into 1\n",
    "    tf.keras.layers.MaxPooling2D(2,2),\n",
    "    # SECOND CONVOLUTIONAL LAYER\n",
    "    tf.keras.layers.Conv2D(64, (3,3), activation='relu'),\n",
    "    tf.keras.layers.MaxPooling2D(2,2),\n",
    "    # FLATTEN THE OUTPUT\n",
    "    tf.keras.layers.Flatten(),\n",
    "    tf.keras.layers.Dense(128, activation='relu'),\n",
    "    tf.keras.layers.Dense(10, activation='softmax')\n",
    "])\n",
    "\n",
    "# COMPILE THE MODEL\n",
    "model.compile(optimizer='adam', loss='sparse_categorical_crossentropy', metrics=['accuracy'])\n",
    "model.fit(training_images, training_labels, epochs=10)\n",
    "test_loss, test_acc = model.evaluate(test_images, test_labels)\n",
    "print(test_acc)"
   ]
  },
  {
   "cell_type": "markdown",
   "metadata": {},
   "source": [
    "#### answer\n",
    "\n",
    "###### 16 Convolutions = 91% accuracy\n",
    "Train on 60000 samples\n",
    "Epoch 1/10\n",
    "60000/60000 [==============================] - 14s 233us/sample - loss: 0.4589 - accuracy: 0.8328\n",
    "\n",
    "Epoch 2/10\n",
    "60000/60000 [==============================] - 11s 179us/sample - loss: 0.3088 - accuracy: 0.8857\n",
    "\n",
    "Epoch 3/10\n",
    "60000/60000 [==============================] - 11s 180us/sample - loss: 0.2629 - accuracy: 0.9033\n",
    "\n",
    "Epoch 4/10\n",
    "60000/60000 [==============================] - 11s 180us/sample - loss: 0.2295 - accuracy: 0.9155\n",
    "\n",
    "Epoch 5/10\n",
    "60000/60000 [==============================] - 11s 179us/sample - loss: 0.2047 - accuracy: 0.9238\n",
    "\n",
    "Epoch 6/10\n",
    "60000/60000 [==============================] - 11s 178us/sample - loss: 0.1807 - accuracy: 0.9330\n",
    "\n",
    "Epoch 7/10\n",
    "60000/60000 [==============================] - 11s 180us/sample - loss: 0.1611 - accuracy: 0.9391\n",
    "\n",
    "Epoch 8/10\n",
    "60000/60000 [==============================] - 11s 176us/sample - loss: 0.1427 - accuracy: 0.9466\n",
    "\n",
    "Epoch 9/10\n",
    "60000/60000 [==============================] - 10s 174us/sample - loss: 0.1260 - accuracy: 0.9527\n",
    "\n",
    "Epoch 10/10\n",
    "60000/60000 [==============================] - 11s 179us/sample - loss: 0.1125 - accuracy: 0.9576\n",
    "\n",
    "10000/10000 [==============================] - 2s 155us/sample - loss: 0.2977 - accuracy: 0.9128\n",
    "\n",
    "0.9128\n",
    "\n",
    "\n",
    "###### 64 Convolutions = 92% accucy in test\n",
    "\n",
    "Train on 60000 samples\n",
    "\n",
    "Epoch 1/10\n",
    "60000/60000 [==============================] - 12s 198us/sample - loss: 0.4336 - accuracy: 0.8444\n",
    "\n",
    "Epoch 2/10\n",
    "60000/60000 [==============================] - 11s 182us/sample - loss: 0.2910 - accuracy: 0.8936\n",
    "\n",
    "Epoch 3/10\n",
    "60000/60000 [==============================] - 11s 182us/sample - loss: 0.2463 - accuracy: 0.9093\n",
    "\n",
    "Epoch 4/10\n",
    "60000/60000 [==============================] - 11s 180us/sample - loss: 0.2154 - accuracy: 0.9198\n",
    "\n",
    "Epoch 5/10\n",
    "60000/60000 [==============================] - ETA: 0s - loss: 0.1884 - accuracy: 0.92 - 11s 179us/sample - loss: 0.1886 - \n",
    "accuracy: 0.9293\n",
    "\n",
    "Epoch 6/10\n",
    "60000/60000 [==============================] - 11s 183us/sample - loss: 0.1669 - accuracy: 0.9377\n",
    "\n",
    "Epoch 7/10\n",
    "60000/60000 [==============================] - 11s 182us/sample - loss: 0.1459 - accuracy: 0.9455\n",
    "\n",
    "Epoch 8/10\n",
    "60000/60000 [==============================] - 11s 182us/sample - loss: 0.1273 - accuracy: 0.9523\n",
    "\n",
    "Epoch 9/10\n",
    "60000/60000 [==============================] - 11s 184us/sample - loss: 0.1105 - accuracy: 0.9583\n",
    "\n",
    "Epoch 10/10\n",
    "60000/60000 [==============================] - 11s 182us/sample - loss: 0.0994 - accuracy: 0.9628\n",
    "\n",
    "10000/10000 [==============================] - 2s 167us/sample - loss: 0.2888 - accuracy: 0.9193\n",
    "\n",
    "0.9193\n",
    "\n",
    "##### The number of convolutions impacts the time (the more convoultions the longer the time frame to process)\n",
    "###### The more convolutions the higher the accuracy and the lower the loss"
   ]
  },
  {
   "cell_type": "code",
   "execution_count": null,
   "metadata": {
    "colab": {
     "height": 415
    },
    "colab_type": "code",
    "executionInfo": {
     "elapsed": 50716,
     "status": "ok",
     "timestamp": 1550247480521,
     "user": {
      "displayName": "Laurence Moroney",
      "photoUrl": "https://lh3.googleusercontent.com/-RcxktLY-TBk/AAAAAAAAAAI/AAAAAAAAABY/b4V4dTIqmPI/s64/photo.jpg",
      "userId": "06401446828348966425"
     },
     "user_tz": 480
    },
    "id": "ZpYRidBXpBPM",
    "outputId": "70c1f9f2-880c-4923-9887-8f1d4c6b8383"
   },
   "outputs": [],
   "source": [
    "import tensorflow as tf\n",
    "print(tf.__version__)\n",
    "mnist = tf.keras.datasets.mnist\n",
    "(training_images, training_labels), (test_images, test_labels) = mnist.load_data()\n",
    "training_images=training_images.reshape(60000, 28, 28, 1)\n",
    "training_images=training_images / 255.0\n",
    "test_images = test_images.reshape(10000, 28, 28, 1)\n",
    "test_images=test_images/255.0\n",
    "model = tf.keras.models.Sequential([\n",
    "  tf.keras.layers.Conv2D(32, (3,3), activation='relu', input_shape=(28, 28, 1)),\n",
    "  tf.keras.layers.MaxPooling2D(2, 2),\n",
    "  tf.keras.layers.Flatten(),\n",
    "  tf.keras.layers.Dense(128, activation='relu'),\n",
    "  tf.keras.layers.Dense(10, activation='softmax')\n",
    "])\n",
    "model.compile(optimizer='adam', loss='sparse_categorical_crossentropy', metrics=['accuracy'])\n",
    "# model.compile(optimizer='adam', loss='sparse_categorical_crossentropy', metrics=['accuracy'])\n",
    "model.fit(training_images, training_labels, epochs=10)\n",
    "test_loss, test_acc = model.evaluate(test_images, test_labels)\n",
    "print(test_acc)"
   ]
  },
  {
   "cell_type": "markdown",
   "metadata": {},
   "source": [
    "# EXERCISE 2\n",
    "2. Remove the final Convolution. What impact will this have on accuracy or training time?"
   ]
  },
  {
   "cell_type": "code",
   "execution_count": null,
   "metadata": {},
   "outputs": [],
   "source": [
    "import tensorflow as tf\n",
    "mnist = tf.keras.datasets.fashion_mnist\n",
    "(training_images, training_labels), (test_images, test_labels) = mnist.load_data()\n",
    "training_images=training_images.reshape(60000, 28, 28, 1)\n",
    "training_images = training_images / 255.0\n",
    "test_images = test_images.reshape(10000, 28, 28, 1)\n",
    "test_images = test_images /255.0\n",
    "\n",
    "# CREATE THE MODEL\n",
    "model = tf.keras.models.Sequential([\n",
    "    # FIRST CONVOLUTIONAL LAYER\n",
    "    # number of convolutions = 32 (arbitary) the size of the convolution is 3x3\n",
    "    tf.keras.layers.Conv2D(32, (3,3), activation='relu', input_shape=(28,28,1)),\n",
    "    # maxPooling is 2x2 array of pixels and picks the biggest one aka turns 4 pixels into 1\n",
    "    tf.keras.layers.MaxPooling2D(2,2),\n",
    "    # FLATTEN THE OUTPUT\n",
    "    tf.keras.layers.Flatten(),\n",
    "    tf.keras.layers.Dense(128, activation='relu'),\n",
    "    tf.keras.layers.Dense(10, activation='softmax')\n",
    "])\n",
    "\n",
    "# COMPILE THE MODEL\n",
    "model.compile(optimizer='adam', loss='sparse_categorical_crossentropy', metrics=['accuracy'])\n",
    "model.fit(training_images, training_labels, epochs=10)\n",
    "test_loss, test_acc = model.evaluate(test_images, test_labels)\n",
    "print(test_acc)"
   ]
  },
  {
   "cell_type": "markdown",
   "metadata": {},
   "source": [
    "#### answer\n",
    "Train on 60000 samples\n",
    "Epoch 1/10\n",
    "60000/60000 [==============================] - 11s 181us/sample - loss: 0.3908 - accuracy: 0.8617\n",
    "Epoch 2/10\n",
    "60000/60000 [==============================] - 10s 168us/sample - loss: 0.2645 - accuracy: 0.9039\n",
    "Epoch 3/10\n",
    "60000/60000 [==============================] - 10s 164us/sample - loss: 0.2196 - accuracy: 0.9190\n",
    "Epoch 4/10\n",
    "60000/60000 [==============================] - 10s 168us/sample - loss: 0.1862 - accuracy: 0.9309\n",
    "Epoch 5/10\n",
    "60000/60000 [==============================] - 10s 163us/sample - loss: 0.1589 - accuracy: 0.9400\n",
    "Epoch 6/10\n",
    "60000/60000 [==============================] - 10s 160us/sample - loss: 0.1370 - accuracy: 0.9483\n",
    "Epoch 7/10\n",
    "60000/60000 [==============================] - 10s 163us/sample - loss: 0.1146 - accuracy: 0.9575\n",
    "Epoch 8/10\n",
    "60000/60000 [==============================] - 9s 158us/sample - loss: 0.0970 - accuracy: 0.9638\n",
    "Epoch 9/10\n",
    "60000/60000 [==============================] - 9s 155us/sample - loss: 0.0824 - accuracy: 0.9695\n",
    "Epoch 10/10\n",
    "60000/60000 [==============================] - 9s 152us/sample - loss: 0.0694 - accuracy: 0.9744\n",
    "10000/10000 [==============================] - 2s 162us/sample - loss: 0.3411 - accuracy: 0.9143\n",
    "0.9143\n",
    "\n",
    "\n",
    "the training time is deccreased by approx 1-2 seconds\n",
    "\n",
    "the accuracy is reduced to 91%"
   ]
  },
  {
   "cell_type": "markdown",
   "metadata": {},
   "source": [
    "# EXERCISE 3\n",
    "\n",
    "3. How about adding more Convolutions? What impact do you think this will have? Experiment with it."
   ]
  },
  {
   "cell_type": "code",
   "execution_count": 3,
   "metadata": {},
   "outputs": [
    {
     "name": "stdout",
     "output_type": "stream",
     "text": [
      "Train on 60000 samples\n",
      "Epoch 1/10\n",
      "60000/60000 [==============================] - 16s 270us/sample - loss: 0.4592 - accuracy: 0.8348\n",
      "Epoch 2/10\n",
      "60000/60000 [==============================] - 14s 240us/sample - loss: 0.3103 - accuracy: 0.8855\n",
      "Epoch 3/10\n",
      "60000/60000 [==============================] - 19s 317us/sample - loss: 0.2667 - accuracy: 0.9016\n",
      "Epoch 4/10\n",
      "60000/60000 [==============================] - 20s 325us/sample - loss: 0.2351 - accuracy: 0.9126\n",
      "Epoch 5/10\n",
      "60000/60000 [==============================] - 18s 307us/sample - loss: 0.2127 - accuracy: 0.9198\n",
      "Epoch 6/10\n",
      "60000/60000 [==============================] - 17s 278us/sample - loss: 0.1910 - accuracy: 0.9276\n",
      "Epoch 7/10\n",
      "60000/60000 [==============================] - 18s 307us/sample - loss: 0.1728 - accuracy: 0.9355\n",
      "Epoch 8/10\n",
      "60000/60000 [==============================] - 19s 315us/sample - loss: 0.1573 - accuracy: 0.9405\n",
      "Epoch 9/10\n",
      "60000/60000 [==============================] - 19s 320us/sample - loss: 0.1407 - accuracy: 0.9474\n",
      "Epoch 10/10\n",
      "60000/60000 [==============================] - 19s 322us/sample - loss: 0.1295 - accuracy: 0.9504\n",
      "10000/10000 [==============================] - 2s 248us/sample - loss: 0.2764 - accuracy: 0.9098\n",
      "0.9098\n"
     ]
    }
   ],
   "source": [
    "import tensorflow as tf\n",
    "mnist = tf.keras.datasets.fashion_mnist\n",
    "(training_images, training_labels), (test_images, test_labels) = mnist.load_data()\n",
    "training_images=training_images.reshape(60000, 28, 28, 1)\n",
    "training_images = training_images / 255.0\n",
    "test_images = test_images.reshape(10000, 28, 28, 1)\n",
    "test_images = test_images /255.0\n",
    "\n",
    "# CREATE THE MODEL\n",
    "model = tf.keras.models.Sequential([\n",
    "    # FIRST CONVOLUTIONAL LAYER\n",
    "    # number of convolutions = 32 (arbitary) the size of the convolution is 3x3\n",
    "    tf.keras.layers.Conv2D(80, (3,3), activation='relu', input_shape=(28,28,1)),\n",
    "#     tf.keras.layers.Conv2D(32, (3,3), activation='relu', input_shape=(28,28,1)),\n",
    "#     tf.keras.layers.Conv2D(64, (3,3), activation='relu', input_shape=(28,28,1)),\n",
    "    # maxPooling is 2x2 array of pixels and picks the biggest one aka turns 4 pixels into 1\n",
    "    tf.keras.layers.MaxPooling2D(2,2),\n",
    "    # SECOND CONVOLUTIONAL LAYER\n",
    "    tf.keras.layers.Conv2D(32, (3,3), activation='relu'),\n",
    "    tf.keras.layers.MaxPooling2D(2,2),\n",
    "#     # THIRD CONVOLUTIONAL LAYER\n",
    "#     tf.keras.layers.Conv2D(84, (3,3), activation='relu'),\n",
    "#     tf.keras.layers.MaxPooling2D(2,2),\n",
    "    # FLATTEN THE OUTPUT\n",
    "    tf.keras.layers.Flatten(),\n",
    "    tf.keras.layers.Dense(128, activation='relu'),\n",
    "    tf.keras.layers.Dense(10, activation='softmax')\n",
    "])\n",
    "\n",
    "# COMPILE THE MODEL\n",
    "model.compile(optimizer='adam', loss='sparse_categorical_crossentropy', metrics=['accuracy'])\n",
    "model.fit(training_images, training_labels, epochs=10)\n",
    "test_loss, test_acc = model.evaluate(test_images, test_labels)\n",
    "print(test_acc)"
   ]
  },
  {
   "cell_type": "markdown",
   "metadata": {},
   "source": [
    "#### answer 3\n",
    "setting 256 convolutions in the first layer and 84 convolutions in the second layer - \n",
    "During training the accuracy had improved however, \n",
    "Reduced the accuary when testing the test data - the model is overfitted.\n",
    "\n",
    "setting 80 convolutions in the first layer and 32 convolutions in the second layer - \n",
    "Accuracy was 91% when testing - during training 95% perhpas more epochs could be benifical.\n"
   ]
  },
  {
   "cell_type": "markdown",
   "metadata": {},
   "source": [
    "# EXERCISE 4\n",
    "\n",
    "4. Remove all Convolutions but the first. What impact do you think this will have? Experiment with it. "
   ]
  },
  {
   "cell_type": "code",
   "execution_count": 4,
   "metadata": {},
   "outputs": [
    {
     "name": "stdout",
     "output_type": "stream",
     "text": [
      "Model: \"sequential_3\"\n",
      "_________________________________________________________________\n",
      "Layer (type)                 Output Shape              Param #   \n",
      "=================================================================\n",
      "conv2d_7 (Conv2D)            (None, 26, 26, 1)         10        \n",
      "_________________________________________________________________\n",
      "max_pooling2d_7 (MaxPooling2 (None, 13, 13, 1)         0         \n",
      "_________________________________________________________________\n",
      "flatten_3 (Flatten)          (None, 169)               0         \n",
      "_________________________________________________________________\n",
      "dense_6 (Dense)              (None, 1)                 170       \n",
      "_________________________________________________________________\n",
      "dense_7 (Dense)              (None, 10)                20        \n",
      "=================================================================\n",
      "Total params: 200\n",
      "Trainable params: 200\n",
      "Non-trainable params: 0\n",
      "_________________________________________________________________\n",
      "Train on 60000 samples\n",
      "Epoch 1/10\n",
      "60000/60000 [==============================] - 17s 280us/sample - loss: 1.9771 - accuracy: 0.2040\n",
      "Epoch 2/10\n",
      "60000/60000 [==============================] - 16s 264us/sample - loss: 1.6779 - accuracy: 0.2813\n",
      "Epoch 3/10\n",
      "60000/60000 [==============================] - 16s 268us/sample - loss: 1.5522 - accuracy: 0.3285\n",
      "Epoch 4/10\n",
      "60000/60000 [==============================] - 17s 278us/sample - loss: 1.4782 - accuracy: 0.3817\n",
      "Epoch 5/10\n",
      "60000/60000 [==============================] - 17s 276us/sample - loss: 1.4352 - accuracy: 0.4128\n",
      "Epoch 6/10\n",
      "60000/60000 [==============================] - 17s 276us/sample - loss: 1.4070 - accuracy: 0.4197\n",
      "Epoch 7/10\n",
      "60000/60000 [==============================] - 15s 244us/sample - loss: 1.3859 - accuracy: 0.4286\n",
      "Epoch 8/10\n",
      "60000/60000 [==============================] - 14s 238us/sample - loss: 1.3701 - accuracy: 0.4334\n",
      "Epoch 9/10\n",
      "60000/60000 [==============================] - 16s 271us/sample - loss: 1.3571 - accuracy: 0.4370\n",
      "Epoch 10/10\n",
      "60000/60000 [==============================] - 15s 255us/sample - loss: 1.3467 - accuracy: 0.4413\n",
      "10000/10000 [==============================] - 2s 184us/sample - loss: 1.3512 - accuracy: 0.4335\n",
      "0.4335\n"
     ]
    }
   ],
   "source": [
    "import tensorflow as tf\n",
    "\n",
    "mnist = tf.keras.datasets.fashion_mnist\n",
    "(training_images, training_labels), (test_images, test_labels) = mnist.load_data()\n",
    "training_images=training_images.reshape(60000, 28, 28, 1)\n",
    "training_images = training_images / 255.0\n",
    "test_images = test_images.reshape(10000, 28, 28, 1)\n",
    "test_images = test_images /255.0\n",
    "\n",
    "model = tf.keras.models.Sequential([\n",
    "  tf.keras.layers.Conv2D(1, (3,3), activation='relu', input_shape=(28, 28, 1)),\n",
    "  tf.keras.layers.MaxPooling2D(2, 2),\n",
    "  tf.keras.layers.Flatten(),\n",
    "  tf.keras.layers.Dense(1, activation='relu'),\n",
    "  tf.keras.layers.Dense(10, activation='softmax')\n",
    "])\n",
    "model.compile(optimizer='adam', loss='sparse_categorical_crossentropy', metrics=['accuracy'])\n",
    "model.summary()\n",
    "model.fit(training_images, training_labels, epochs=10)\n",
    "test_loss, test_acc = model.evaluate(test_images, test_labels)\n",
    "print(test_acc)"
   ]
  },
  {
   "cell_type": "markdown",
   "metadata": {},
   "source": [
    "#### answer 4\n",
    "\n",
    "Setting only one convolution in both convolutional layers (total parameters 200) - epoch 1 training initial accuracy was 20%\n",
    "-epoch 10 accuarcy was 44%.\n",
    "On testing the accuracy was 43%\n"
   ]
  },
  {
   "cell_type": "code",
   "execution_count": null,
   "metadata": {},
   "outputs": [],
   "source": []
  },
  {
   "cell_type": "markdown",
   "metadata": {},
   "source": [
    "# EXERCISE 5\n",
    "\n",
    "5. In the previous lesson you implemented a callback to check on the loss function and to cancel training once it hit a certain amount. See if you can implement that here!"
   ]
  },
  {
   "cell_type": "code",
   "execution_count": 8,
   "metadata": {},
   "outputs": [
    {
     "name": "stdout",
     "output_type": "stream",
     "text": [
      "Model: \"sequential_7\"\n",
      "_________________________________________________________________\n",
      "Layer (type)                 Output Shape              Param #   \n",
      "=================================================================\n",
      "conv2d_17 (Conv2D)           (None, 26, 26, 64)        640       \n",
      "_________________________________________________________________\n",
      "max_pooling2d_17 (MaxPooling (None, 13, 13, 64)        0         \n",
      "_________________________________________________________________\n",
      "conv2d_18 (Conv2D)           (None, 11, 11, 32)        18464     \n",
      "_________________________________________________________________\n",
      "max_pooling2d_18 (MaxPooling (None, 5, 5, 32)          0         \n",
      "_________________________________________________________________\n",
      "flatten_7 (Flatten)          (None, 800)               0         \n",
      "_________________________________________________________________\n",
      "dense_14 (Dense)             (None, 128)               102528    \n",
      "_________________________________________________________________\n",
      "dense_15 (Dense)             (None, 10)                1290      \n",
      "=================================================================\n",
      "Total params: 122,922\n",
      "Trainable params: 122,922\n",
      "Non-trainable params: 0\n",
      "_________________________________________________________________\n",
      "Train on 60000 samples\n",
      "Epoch 1/10\n",
      "59904/60000 [============================>.] - ETA: 0s - loss: 0.4614 - accuracy: 0.8349\n",
      "Reached 40% accuracy -stopping training\n",
      "60000/60000 [==============================] - 19s 313us/sample - loss: 0.4611 - accuracy: 0.8350\n",
      "10000/10000 [==============================] - 2s 226us/sample - loss: 0.3506 - accuracy: 0.8739\n",
      "0.8739\n"
     ]
    }
   ],
   "source": [
    "import tensorflow as tf\n",
    "\n",
    "class myCallback(tf.keras.callbacks.Callback):\n",
    "    def on_epoch_end(self, epoch, logs={}):\n",
    "        if(logs.get('loss') < 0.60 ):\n",
    "            print('\\nReached 40% accuracy -stopping training')\n",
    "            self.model.stop_training=True\n",
    "                                       \n",
    "mnist = tf.keras.datasets.fashion_mnist\n",
    "(training_images, training_labels), (test_images, test_labels) = mnist.load_data()\n",
    "training_images=training_images.reshape(60000, 28, 28, 1)\n",
    "training_images = training_images / 255.0\n",
    "test_images = test_images.reshape(10000, 28, 28, 1)\n",
    "test_images = test_images /255.0\n",
    "\n",
    "callbacks=myCallback()\n",
    "\n",
    "# CREATE THE MODEL\n",
    "model = tf.keras.models.Sequential([\n",
    "    # FIRST CONVOLUTIONAL LAYER\n",
    "    # number of convolutions = 32 (arbitary) the size of the convolution is 3x3\n",
    "    tf.keras.layers.Conv2D(64, (3,3), activation='relu', input_shape=(28,28,1)),\n",
    "    # maxPooling is 2x2 array of pixels and picks the biggest one aka turns 4 pixels into 1\n",
    "    tf.keras.layers.MaxPooling2D(2,2),\n",
    "    # SECOND CONVOLUTIONAL LAYER\n",
    "    tf.keras.layers.Conv2D(32, (3,3), activation='relu'),\n",
    "    tf.keras.layers.MaxPooling2D(2,2),\n",
    "#     # THIRD CONVOLUTIONAL LAYER\n",
    "#     tf.keras.layers.Conv2D(64, (3,3), activation='relu'),\n",
    "#     tf.keras.layers.MaxPooling2D(2,2),\n",
    "    # FLATTEN THE OUTPUT\n",
    "    tf.keras.layers.Flatten(),\n",
    "    tf.keras.layers.Dense(128, activation='relu'),\n",
    "    tf.keras.layers.Dense(10, activation='softmax')\n",
    "])\n",
    "\n",
    "# COMPILE THE MODEL\n",
    "model.compile(optimizer='adam', loss='sparse_categorical_crossentropy', metrics=['accuracy'])\n",
    "model.summary()\n",
    "model.fit(training_images, training_labels, epochs=10, callbacks=[callbacks])\n",
    "test_loss, test_acc = model.evaluate(test_images, test_labels)\n",
    "print(test_acc)"
   ]
  },
  {
   "cell_type": "markdown",
   "metadata": {},
   "source": [
    "##### Model: \"sequential_6\"\n",
    "_________________________________________________________________\n",
    "Layer (type)                 Output Shape              Param #   \n",
    "=================================================================\n",
    "conv2d_14 (Conv2D)           (None, 26, 26, 64)        640       \n",
    "_________________________________________________________________\n",
    "max_pooling2d_14 (MaxPooling (None, 13, 13, 64)        0         \n",
    "_________________________________________________________________\n",
    "conv2d_15 (Conv2D)           (None, 11, 11, 32)        18464     \n",
    "_________________________________________________________________\n",
    "max_pooling2d_15 (MaxPooling (None, 5, 5, 32)          0         \n",
    "_________________________________________________________________\n",
    "conv2d_16 (Conv2D)           (None, 3, 3, 64)          18496     \n",
    "_________________________________________________________________\n",
    "max_pooling2d_16 (MaxPooling (None, 1, 1, 64)          0         \n",
    "_________________________________________________________________\n",
    "flatten_6 (Flatten)          (None, 64)                0         \n",
    "_________________________________________________________________\n",
    "dense_12 (Dense)             (None, 128)               8320      \n",
    "_________________________________________________________________\n",
    "dense_13 (Dense)             (None, 10)                1290      \n",
    "=================================================================\n",
    "Total params: 47,210\n",
    "Trainable params: 47,210\n",
    "Non-trainable params: 0\n",
    "_________________________________________________________________\n",
    "Train on 60000 samples\n",
    "Epoch 1/10\n",
    "59968/60000 [============================>.] - ETA: 0s - loss: 0.5986 - accuracy: 0.7795\n",
    "Reached 40% accuracy -stopping training\n",
    "60000/60000 [==============================] - 20s 334us/sample - loss: 0.5984 - accuracy: 0.7796\n",
    "10000/10000 [==============================] - 3s 261us/sample - loss: 0.4820 - accuracy: 0.8286\n",
    "0.8286\n"
   ]
  },
  {
   "cell_type": "markdown",
   "metadata": {},
   "source": [
    "#### answer"
   ]
  },
  {
   "cell_type": "markdown",
   "metadata": {},
   "source": [
    "Model: \"sequential_7\"\n",
    "_________________________________________________________________\n",
    "Layer (type)                 Output Shape              Param #   \n",
    "=================================================================\n",
    "conv2d_17 (Conv2D)           (None, 26, 26, 64)        640       \n",
    "_________________________________________________________________\n",
    "max_pooling2d_17 (MaxPooling (None, 13, 13, 64)        0         \n",
    "_________________________________________________________________\n",
    "conv2d_18 (Conv2D)           (None, 11, 11, 32)        18464     \n",
    "_________________________________________________________________\n",
    "max_pooling2d_18 (MaxPooling (None, 5, 5, 32)          0         \n",
    "_________________________________________________________________\n",
    "flatten_7 (Flatten)          (None, 800)               0         \n",
    "_________________________________________________________________\n",
    "dense_14 (Dense)             (None, 128)               102528    \n",
    "_________________________________________________________________\n",
    "dense_15 (Dense)             (None, 10)                1290      \n",
    "=================================================================\n",
    "Total params: 122,922\n",
    "Trainable params: 122,922\n",
    "Non-trainable params: 0\n",
    "_________________________________________________________________\n",
    "Train on 60000 samples\n",
    "Epoch 1/10\n",
    "59904/60000 [============================>.] - ETA: 0s - loss: 0.4614 - accuracy: 0.8349\n",
    "Reached 40% accuracy -stopping training\n",
    "60000/60000 [==============================] - 19s 313us/sample - loss: 0.4611 - accuracy: 0.8350\n",
    "10000/10000 [==============================] - 2s 226us/sample - loss: 0.3506 - accuracy: 0.8739\n",
    "0.8739"
   ]
  },
  {
   "cell_type": "markdown",
   "metadata": {},
   "source": [
    "Better accuracy with 2convolutional layers\n",
    "layer1 - 64 convolutions and layer1 - 32 convolutions"
   ]
  },
  {
   "cell_type": "code",
   "execution_count": null,
   "metadata": {},
   "outputs": [],
   "source": []
  }
 ],
 "metadata": {
  "colab": {
   "collapsed_sections": [],
   "name": "Course 1 - Part 6 - Lesson 2 - Notebook.ipynb",
   "provenance": [],
   "version": "0.3.2"
  },
  "kernelspec": {
   "display_name": "Python 3",
   "language": "python",
   "name": "python3"
  },
  "language_info": {
   "codemirror_mode": {
    "name": "ipython",
    "version": 3
   },
   "file_extension": ".py",
   "mimetype": "text/x-python",
   "name": "python",
   "nbconvert_exporter": "python",
   "pygments_lexer": "ipython3",
   "version": "3.6.10"
  }
 },
 "nbformat": 4,
 "nbformat_minor": 1
}
